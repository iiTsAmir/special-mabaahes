{
 "cells": [
  {
   "cell_type": "code",
   "execution_count": 4,
   "id": "31602941-a627-4f61-ab27-9da6caebb443",
   "metadata": {},
   "outputs": [
    {
     "name": "stdin",
     "output_type": "stream",
     "text": [
      "Enter your age: 190\n"
     ]
    },
    {
     "name": "stdout",
     "output_type": "stream",
     "text": [
      "You maybe be dead now\n",
      "RIP :(\n"
     ]
    }
   ],
   "source": [
    "age = int(input(\"Enter your age:\"))\n",
    "if age <= 0:\n",
    "  print(\"You are not born yet\")\n",
    "elif age <= 3:\n",
    "  print(\"you are toddler\")\n",
    "elif age <= 12:\n",
    "  print(\"you are child\")\n",
    "elif age <= 19:\n",
    "  print(\"you are teenager\")\n",
    "elif age <= 24:\n",
    "  print(\"you are Young\")\n",
    "elif age <= 64:\n",
    "  print(\"you are adult\")\n",
    "elif age <= 150:\n",
    "  print(\"you are old\")\n",
    "elif age > 150:\n",
    "    print(\"You maybe be dead now\\nRIP :(\")"
   ]
  },
  {
   "cell_type": "code",
   "execution_count": 15,
   "id": "3a48927f-1850-455e-a747-bb60faffe97d",
   "metadata": {},
   "outputs": [
    {
     "name": "stdout",
     "output_type": "stream",
     "text": [
      "\u001b[41m fail \n"
     ]
    }
   ],
   "source": [
    "from IPython.display import clear_output\n",
    "from colorama import  Back, Style\n",
    "\n",
    "score = int(input(\"Enter your score:\"))\n",
    "if score < 0 or score > 20 :\n",
    "    print('score should be between 0 and 20 !')\n",
    "elif score < 10:\n",
    "    clear_output(wait=False)\n",
    "    print(Back.RED + ' fail ')\n",
    "elif score > 10:\n",
    "    clear_output(wait=False)\n",
    "    print(Back.GREEN + ' pass ')"
   ]
  },
  {
   "cell_type": "code",
   "execution_count": 18,
   "id": "4ddfd8b6-3b47-4ba5-98df-3f48f630205a",
   "metadata": {},
   "outputs": [
    {
     "name": "stdout",
     "output_type": "stream",
     "text": [
      "The factorial of 5 is 120\n"
     ]
    }
   ],
   "source": [
    "from IPython.display import clear_output\n",
    "\n",
    "def factorial(n):\n",
    "    if n == 0:\n",
    "        return 1\n",
    "    else:\n",
    "        return n * factorial(n - 1)\n",
    "\n",
    "number = int(input(\"Enter a number:\"))\n",
    "result = factorial(number)\n",
    "\n",
    "clear_output(wait=False)\n",
    "print(f\"The factorial of {number} is {result}\")\n",
    "\n",
    "#Source: ChatGPT"
   ]
  }
 ],
 "metadata": {
  "kernelspec": {
   "display_name": "Python 3 (ipykernel)",
   "language": "python",
   "name": "python3"
  },
  "language_info": {
   "codemirror_mode": {
    "name": "ipython",
    "version": 3
   },
   "file_extension": ".py",
   "mimetype": "text/x-python",
   "name": "python",
   "nbconvert_exporter": "python",
   "pygments_lexer": "ipython3",
   "version": "3.12.0"
  }
 },
 "nbformat": 4,
 "nbformat_minor": 5
}
