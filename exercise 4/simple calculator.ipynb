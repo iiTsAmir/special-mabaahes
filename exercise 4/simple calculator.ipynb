{
 "cells": [
  {
   "cell_type": "code",
   "execution_count": null,
   "id": "b68a23bb-abab-4064-9417-766c3777e075",
   "metadata": {},
   "outputs": [],
   "source": [
    "from IPython.display import clear_output\n",
    "\n",
    "num1 = int(input('enter first number:'))\n",
    "num2 = int(input('enter second number:'))\n",
    "\n",
    "Option = 0\n",
    "\n",
    "while Option != 5:\n",
    "    Option = input('\\n 1 to +\\n 2 to -\\n 3 to ×\\n 4 to ÷\\n 0 to change numbers\\n 5 to exit\\n\\n select a option:')\n",
    "\n",
    "    match Option:\n",
    "        case \"0\":\n",
    "            clear_output(wait=False)\n",
    "            num1 = int(input('enter first number:'))\n",
    "            num2 = int(input('enter second number:'))\n",
    "    \n",
    "        case \"1\":\n",
    "            clear_output(wait=False)\n",
    "            print('—> {} + {} = {}'.format(num1, num2, num1+num2))\n",
    "    \n",
    "        case \"2\":\n",
    "            clear_output(wait=False)\n",
    "            print('—> {} - {} = {}'.format(num1, num2, num1-num2))\n",
    "    \n",
    "        case \"3\":\n",
    "            clear_output(wait=False)\n",
    "            print('—> {} × {} = {}'.format(num1, num2, num1*num2))\n",
    "        \n",
    "        case \"4\":\n",
    "            clear_output(wait=False)\n",
    "            print('—> {} ÷ {} = {}'.format(num1, num2, num1/num2))\n",
    "    \n",
    "        case \"5\":\n",
    "            clear_output(wait=False)\n",
    "            Option = 5\n",
    "        \n",
    "        case _:\n",
    "            print(\"pleas enter Between 1 and 5!\")"
   ]
  }
 ],
 "metadata": {
  "kernelspec": {
   "display_name": "Python 3 (ipykernel)",
   "language": "python",
   "name": "python3"
  },
  "language_info": {
   "codemirror_mode": {
    "name": "ipython",
    "version": 3
   },
   "file_extension": ".py",
   "mimetype": "text/x-python",
   "name": "python",
   "nbconvert_exporter": "python",
   "pygments_lexer": "ipython3",
   "version": "3.12.0"
  }
 },
 "nbformat": 4,
 "nbformat_minor": 5
}
