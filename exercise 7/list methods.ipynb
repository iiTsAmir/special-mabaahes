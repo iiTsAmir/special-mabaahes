{
 "cells": [
  {
   "cell_type": "code",
   "execution_count": 1,
   "id": "f6d02a6d-2602-4323-89b6-e5c5acfb9f9e",
   "metadata": {},
   "outputs": [
    {
     "name": "stdout",
     "output_type": "stream",
     "text": [
      "['ali', 15, True, 8.5, 'reza']\n"
     ]
    }
   ],
   "source": [
    "lst = ['ali', 15, True, 8.5, 'reza']\n",
    "print(lst)"
   ]
  },
  {
   "cell_type": "code",
   "execution_count": 2,
   "id": "1e4cb8ff-3d47-40b4-9dea-5b1ffc7adb16",
   "metadata": {},
   "outputs": [
    {
     "name": "stdout",
     "output_type": "stream",
     "text": [
      "[15, True]\n"
     ]
    }
   ],
   "source": [
    "a = list(lst)\n",
    "\n",
    "a.pop(3)\n",
    "del(a[0])\n",
    "a.remove('reza')\n",
    "\n",
    "print(a)"
   ]
  },
  {
   "cell_type": "code",
   "execution_count": 3,
   "id": "dfe07856-7b9d-4243-a34c-9941c9d2ba92",
   "metadata": {},
   "outputs": [
    {
     "name": "stdout",
     "output_type": "stream",
     "text": [
      "['mamad', 'ali', 15, True, 8.5, 'reza', 20, 83.5]\n"
     ]
    }
   ],
   "source": [
    "b = list(lst)\n",
    "\n",
    "b.append(20)\n",
    "b.insert(0 , 'mamad')\n",
    "b = b + [83.5]\n",
    "\n",
    "print(b)"
   ]
  },
  {
   "cell_type": "code",
   "execution_count": 4,
   "id": "24b88ccd-3187-4307-ad8e-f76362f592c5",
   "metadata": {},
   "outputs": [
    {
     "name": "stdout",
     "output_type": "stream",
     "text": [
      "['ali', 15, True, 8.5, 'reza', 'shahrooz', False]\n"
     ]
    }
   ],
   "source": [
    "c = list(lst)\n",
    "\n",
    "d = ['shahrooz', False]\n",
    "c.extend(d)\n",
    "\n",
    "print(c)"
   ]
  },
  {
   "cell_type": "code",
   "execution_count": 5,
   "id": "97e28407-facc-41c9-9c63-e7735efba21c",
   "metadata": {},
   "outputs": [
    {
     "name": "stdout",
     "output_type": "stream",
     "text": [
      "even numbers :           [0, 2, 4, 6, 8]\n",
      "odd numbers :            [1, 3, 5, 7, 9]\n",
      "numbers between 2 & 7 :  [3, 4, 5, 6]\n"
     ]
    }
   ],
   "source": [
    "testlist = [0,1,2,3,4,5,6,7,8,9]\n",
    "print(f'even numbers :           {testlist[ : :2]}')\n",
    "print(f'odd numbers :            {testlist[1: :2]}')\n",
    "print(f'numbers between 2 & 7 :  {testlist[3:7  ]}')"
   ]
  }
 ],
 "metadata": {
  "kernelspec": {
   "display_name": "Python 3 (ipykernel)",
   "language": "python",
   "name": "python3"
  },
  "language_info": {
   "codemirror_mode": {
    "name": "ipython",
    "version": 3
   },
   "file_extension": ".py",
   "mimetype": "text/x-python",
   "name": "python",
   "nbconvert_exporter": "python",
   "pygments_lexer": "ipython3",
   "version": "3.12.0"
  }
 },
 "nbformat": 4,
 "nbformat_minor": 5
}
