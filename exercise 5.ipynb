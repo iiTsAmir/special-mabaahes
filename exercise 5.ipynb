{
 "cells": [
  {
   "cell_type": "code",
   "execution_count": 4,
   "id": "a3f3f583-e1fa-495f-aad9-25524f4fb95f",
   "metadata": {},
   "outputs": [
    {
     "name": "stdout",
     "output_type": "stream",
     "text": [
      "1+2×7÷2-(8÷2)³ = -56.0\n"
     ]
    }
   ],
   "source": [
    "a = 1+2*7/2-(8/2)**3\n",
    "print ('1+2×7÷2-(8÷2)³ = {}'.format(a))"
   ]
  },
  {
   "cell_type": "code",
   "execution_count": 5,
   "id": "b42da0d1-1e21-4560-abeb-0e38160f9792",
   "metadata": {},
   "outputs": [
    {
     "ename": "TypeError",
     "evalue": "can only concatenate str (not \"int\") to str",
     "output_type": "error",
     "traceback": [
      "\u001b[1;31m---------------------------------------------------------------------------\u001b[0m",
      "\u001b[1;31mTypeError\u001b[0m                                 Traceback (most recent call last)",
      "Cell \u001b[1;32mIn[5], line 1\u001b[0m\n\u001b[1;32m----> 1\u001b[0m b \u001b[38;5;241m=\u001b[39m \u001b[38;5;124;43m'\u001b[39;49m\u001b[38;5;124;43m24\u001b[39;49m\u001b[38;5;124;43m'\u001b[39;49m\u001b[43m \u001b[49m\u001b[38;5;241;43m+\u001b[39;49m\u001b[43m \u001b[49m\u001b[38;5;241;43m2\u001b[39;49m\n\u001b[0;32m      2\u001b[0m \u001b[38;5;28mprint\u001b[39m (b)\n",
      "\u001b[1;31mTypeError\u001b[0m: can only concatenate str (not \"int\") to str"
     ]
    }
   ],
   "source": [
    "b = '24' + 2\n",
    "print (b)"
   ]
  },
  {
   "cell_type": "code",
   "execution_count": 12,
   "id": "918a03a5-11c3-4d41-8f97-dd14cb0c9344",
   "metadata": {},
   "outputs": [
    {
     "name": "stdout",
     "output_type": "stream",
     "text": [
      "  √64  = 8.0\n",
      "  √80  = 8.94427190999916\n",
      " tan75 = -0.42070095062112434\n",
      " sin60 = -0.3048106211022167\n"
     ]
    }
   ],
   "source": [
    "import math\n",
    "\n",
    "c = math.sqrt(64)\n",
    "d = math.sqrt(80)\n",
    "e = math.tan(75)\n",
    "f = math.sin(60)\n",
    "\n",
    "print('  √64  = {}\\n  √80  = {}\\n tan75 = {}\\n sin60 = {}'.format(c,d,e,f))"
   ]
  },
  {
   "cell_type": "markdown",
   "id": "f0b315f1-3b11-44be-a288-002ea50743d6",
   "metadata": {},
   "source": [
    "***difference between print and return in python***\n",
    "\n",
    "**print**\n",
    "print is a function you call. Calling print will immediately make your program write out text for you to see. Use print when you want to show a value to a human.\n",
    "\n",
    "**return**\n",
    "return is a keyword. When a return statement is reached, Python will stop the execution of the current function, sending a value out to where the function was called. Use return when you want to send a value from one point in your code to another.\n",
    "\n",
    "Using return changes the flow of the program. Using print does not.\n",
    "\n",
    "resource:pythonprinciples.com/blog/print-vs-return"
   ]
  },
  {
   "cell_type": "code",
   "execution_count": 50,
   "id": "2a4732ad-24b9-430d-8e82-23d74a3de75d",
   "metadata": {},
   "outputs": [
    {
     "name": "stdout",
     "output_type": "stream",
     "text": [
      "5.385164807134504\n",
      "0.12014057070673771\n",
      "-0.5\n",
      "ali gholi\n"
     ]
    }
   ],
   "source": [
    "import math\n",
    "\n",
    "def fun1(x , y):\n",
    "  return math.sqrt(x**2+y**2)\n",
    "\n",
    "def degTOrad(degrees):\n",
    "    radians = degrees*(math.pi/180)\n",
    "    return radians\n",
    "\n",
    "def fun2(x):\n",
    "    xd = degTOrad(x)\n",
    "    return math.sqrt(math.sin(xd)/x)\n",
    "\n",
    "def fun3(x , a , w):\n",
    "  return x-a*x/w\n",
    "\n",
    "def fun4(firstStr , secondStr):\n",
    "  return firstStr +' '+ secondStr\n",
    "\n",
    "print (fun1(2,5))\n",
    "print (fun2(60))\n",
    "print (fun3(2,5,4))\n",
    "print (fun4('ali' , 'gholi'))"
   ]
  }
 ],
 "metadata": {
  "kernelspec": {
   "display_name": "Python 3 (ipykernel)",
   "language": "python",
   "name": "python3"
  },
  "language_info": {
   "codemirror_mode": {
    "name": "ipython",
    "version": 3
   },
   "file_extension": ".py",
   "mimetype": "text/x-python",
   "name": "python",
   "nbconvert_exporter": "python",
   "pygments_lexer": "ipython3",
   "version": "3.12.0"
  }
 },
 "nbformat": 4,
 "nbformat_minor": 5
}
